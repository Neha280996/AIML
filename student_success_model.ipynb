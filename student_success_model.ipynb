{
 "cells": [
  {
   "cell_type": "markdown",
   "id": "2643c939",
   "metadata": {},
   "source": [
    "# Student Success Prediction Model\n",
    "\n",
    "This notebook demonstrates how to build a classification model to predict student success in internship programs based on student profiles and participation metrics."
   ]
  },
  {
   "cell_type": "code",
   "execution_count": null,
   "id": "65495694",
   "metadata": {},
   "outputs": [],
   "source": [
    "\n",
    "import pandas as pd\n",
    "import numpy as np\n",
    "from sklearn.model_selection import train_test_split\n",
    "from sklearn.preprocessing import StandardScaler, LabelEncoder\n",
    "from sklearn.impute import SimpleImputer\n",
    "from sklearn.linear_model import LogisticRegression\n",
    "from sklearn.ensemble import RandomForestClassifier\n",
    "from sklearn.svm import SVC\n",
    "from sklearn.metrics import accuracy_score, precision_score, recall_score\n",
    "import matplotlib.pyplot as plt\n",
    "import seaborn as sns\n",
    "\n",
    "# Load dataset\n",
    "df = pd.read_csv(\"student_data.csv\")\n",
    "df = df.drop('student_id', axis=1)\n",
    "\n",
    "# Encode categorical data\n",
    "le = LabelEncoder()\n",
    "df['major'] = le.fit_transform(df['major'])\n",
    "\n",
    "# Handle missing values\n",
    "imputer = SimpleImputer(strategy='mean')\n",
    "df.iloc[:, :] = imputer.fit_transform(df)\n",
    "\n",
    "# Features and target\n",
    "X = df.drop('success', axis=1)\n",
    "y = df['success']\n",
    "\n",
    "# Normalize\n",
    "scaler = StandardScaler()\n",
    "X_scaled = scaler.fit_transform(X)\n",
    "\n",
    "# Train/test split\n",
    "X_train, X_test, y_train, y_test = train_test_split(X_scaled, y, test_size=0.2, random_state=42)\n"
   ]
  },
  {
   "cell_type": "code",
   "execution_count": null,
   "id": "bf6a8ddc",
   "metadata": {},
   "outputs": [],
   "source": [
    "\n",
    "# Train and evaluate models\n",
    "models = {\n",
    "    'Logistic Regression': LogisticRegression(),\n",
    "    'Random Forest': RandomForestClassifier(),\n",
    "    'SVM': SVC()\n",
    "}\n",
    "\n",
    "for name, model in models.items():\n",
    "    model.fit(X_train, y_train)\n",
    "    y_pred = model.predict(X_test)\n",
    "    print(f\"\\n{name}\")\n",
    "    print(\"Accuracy:\", accuracy_score(y_test, y_pred))\n",
    "    print(\"Precision:\", precision_score(y_test, y_pred))\n",
    "    print(\"Recall:\", recall_score(y_test, y_pred))\n"
   ]
  },
  {
   "cell_type": "code",
   "execution_count": null,
   "id": "f63c94b1",
   "metadata": {},
   "outputs": [],
   "source": [
    "\n",
    "# Feature importance for Random Forest\n",
    "rf = RandomForestClassifier()\n",
    "rf.fit(X_train, y_train)\n",
    "feat_importances = pd.Series(rf.feature_importances_, index=df.drop('success', axis=1).columns)\n",
    "feat_importances.nlargest(10).plot(kind='barh')\n",
    "plt.title(\"Top Features Affecting Success\")\n",
    "plt.show()\n"
   ]
  }
 ],
 "metadata": {},
 "nbformat": 4,
 "nbformat_minor": 5
}